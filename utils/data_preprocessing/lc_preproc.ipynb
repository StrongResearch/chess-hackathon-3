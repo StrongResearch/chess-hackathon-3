{
 "cells": [
  {
   "cell_type": "code",
   "execution_count": 4,
   "metadata": {},
   "outputs": [
    {
     "name": "stderr",
     "output_type": "stream",
     "text": [
      "Downloading 50 PGN files: 100%|██████████| 50/50 [04:48<00:00,  5.76s/it]\n",
      "Processing tars into HDFs:   2%|▏         | 2/100 [01:47<1:31:00, 55.72s/it]"
     ]
    },
    {
     "name": "stdout",
     "output_type": "stream",
     "text": [
      "FAILED: b'\\n1.c4 e5 2.Nc3 Nf6 3.Nf3 Nc6 4.e4 Bc5 5.Nxe5 Nxe5 6.d4 Bb4 7.dxe5 Nxe4 8.Qf3 Nxc3 9.bxc3 Ba5 10.Be2 O-O 11.Bf4 d6 12.Rd1 Re8 13.exd6 Bd7 14.O-O cxd6 15.Bxd6 Ba4 16.c5 Bxd1 17.Bxd1 Qd7 18.Qf4 Qe6 19.Ba4 Qxa2 20.Bxe8 Rxe8 21.Qf3 Qc2 22.Qxb7 Qxc3 23.c6 Bb6 24.h3 h6 25.c7 Kh7 26.Qb8 Qc6 27.Bf4 Qd7 28.Qb7 Rc8 29.Rc1 g5 30.Be5 Bxf2+ 31\\xc6r\\xe0qv\\x7f\\xf4X 3@.Rf1 Bxc7 33.Bh2 g4 34.hxg4 K\\x065\\x97K9\\n\\xb7G\\xdc\\xcb\\x9b~\\xb0\\xf2\\xf5\\xc4\\xb5\\xbc\\xaf3:A\\xabd 37:Qb2+ Kg8 38.Qb7 1/2-\\xdfi;A\\xdf\\x86s\\x1c 5}'\n"
     ]
    },
    {
     "name": "stderr",
     "output_type": "stream",
     "text": [
      "Processing tars into HDFs: 100%|██████████| 100/100 [1:38:26<00:00, 59.07s/it]\n"
     ]
    }
   ],
   "source": [
    "import utils.data_preproc_utils as dpu\n",
    "\n",
    "urls = dpu.scrape_tar_bz2_links()[0:100]\n",
    "tar_dest = \"/root/chess-hackathon-3/data/lc0_tars\"\n",
    "hdf_dest = \"/root/chess-hackathon-3/data/lc0_pgn_hdfs\"\n",
    "dpu.download_tar_files(urls, tar_dest)\n",
    "dpu.compile_tars_to_hdfs(tar_dest, hdf_dest, batch_size=10_000_000)"
   ]
  },
  {
   "cell_type": "code",
   "execution_count": 1,
   "metadata": {},
   "outputs": [
    {
     "name": "stdout",
     "output_type": "stream",
     "text": [
      "5922470\n",
      "1.Nf3 d5 2.d4 Nf6 3.c4 e6 4.g3 Bb4+ 5.Bd2 a5 6.Qc1 Nbd7 7.Bg2 Be7 8.O-O O-O 9.b3 c6 10.Nc3 Nb6 11.c5 Nbd7 12.Rd1 b6 13.cxb6 Qxb6 14.e4 Nxe4 15.Nxe4 dxe4 16.Ne5 Nxe5 17.dxe5 Bb7 18.Bxe4 c5 19.Qc4 Rfd8 20.Bc3 Bxe4 21.Qxe4 g6 22.Rd2 Qa7 23.h4 a4 24.Rxd8+ Bxd8 25.Rd1 axb3 26.axb3 Rb8 27.Qa4 Qxa4 28.bxa4 Kg7 29.Ra1 Rb3 30.Bd2 c4 31.Rc1 Rb2 32.Be1 Ra2 33.Rxc4 Ra1 34.Re4 Ba5 35.Kf1 Kh6 36.f3 Kg7 37.Kf2 Bxe1+ 38.Rxe1 Rxa4 39.Re3 Kh8 40.Re4 Ra3 41.Kg2 Ra5 42.f4 h5 43.Kf1 Rd5 44.Re2 Ra5 45.Kg2 Kh7 46.Rd2 Rc5 47.Kf2 Rc4 48.Rd7 Rc2+ 49.Ke3 Kg7 50.Rd8 Rg2 51.Kf3 Rg1 52.Re8 Rc1 53.Ra8 Rb1 54.Rd8 Rb4 55.Kf2 Rb1 56.Kg2 Kh7 57.Rd3 Rb6 58.Rf3 Kg7 59.Rd3 Rb5 60.Re3 Kh7 61.Rf3 Rb1 62.Kf2 Rc1 63.Rb3 Kg7 64.Re3 Rc5 65.Ra3 Rd5 66.Ra1 Rb5 67.Ra7 Kg8 68.Rc7 Rd5 69.Ke1 Kg7 70.Kf1 Rb5 71.Rd7 Rc5 72.Rd1 Rc3 73.Kg2 Kh6 74.Rd7 Rc2+ 75.Kf3 Rc3+ 76.Kg2 Rc2+ 77.Kf1 Rc1+ 78.Kg2 Rc2+  1/2-1/2 {OL: 0}\n"
     ]
    }
   ],
   "source": [
    "from utils.datasets import PGN_HDF_Dataset\n",
    "\n",
    "dest_dir = \"/root/chess-hackathon-3/data/lc0_pgn_hdfs\"\n",
    "ds = PGN_HDF_Dataset(dest_dir)\n",
    "print(len(ds))\n",
    "\n",
    "pgn = ds[0]\n",
    "print(pgn)"
   ]
  }
 ],
 "metadata": {
  "kernelspec": {
   "display_name": ".chess",
   "language": "python",
   "name": "python3"
  },
  "language_info": {
   "codemirror_mode": {
    "name": "ipython",
    "version": 3
   },
   "file_extension": ".py",
   "mimetype": "text/x-python",
   "name": "python",
   "nbconvert_exporter": "python",
   "pygments_lexer": "ipython3",
   "version": "3.10.12"
  }
 },
 "nbformat": 4,
 "nbformat_minor": 2
}
