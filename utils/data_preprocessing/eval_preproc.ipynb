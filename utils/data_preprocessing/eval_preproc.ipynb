{
 "cells": [
  {
   "cell_type": "code",
   "execution_count": 1,
   "metadata": {},
   "outputs": [
    {
     "name": "stderr",
     "output_type": "stream",
     "text": [
      "  7%|▋         | 929/13486 [01:03<28:02,  7.46it/s]"
     ]
    },
    {
     "name": "stdout",
     "output_type": "stream",
     "text": [
      "SAVING 2000000 to evalHDF0\n"
     ]
    },
    {
     "name": "stderr",
     "output_type": "stream",
     "text": [
      " 14%|█▍        | 1904/13486 [02:12<25:21,  7.61it/s] "
     ]
    },
    {
     "name": "stdout",
     "output_type": "stream",
     "text": [
      "SAVING 2000000 to evalHDF1\n"
     ]
    },
    {
     "name": "stderr",
     "output_type": "stream",
     "text": [
      " 21%|██        | 2857/13486 [03:18<23:15,  7.61it/s]  "
     ]
    },
    {
     "name": "stdout",
     "output_type": "stream",
     "text": [
      "SAVING 2000000 to evalHDF2\n"
     ]
    },
    {
     "name": "stderr",
     "output_type": "stream",
     "text": [
      " 28%|██▊       | 3816/13486 [04:22<20:54,  7.71it/s]  "
     ]
    },
    {
     "name": "stdout",
     "output_type": "stream",
     "text": [
      "SAVING 2000000 to evalHDF3\n"
     ]
    },
    {
     "name": "stderr",
     "output_type": "stream",
     "text": [
      " 35%|███▌      | 4740/13486 [05:26<18:45,  7.77it/s]  "
     ]
    },
    {
     "name": "stdout",
     "output_type": "stream",
     "text": [
      "SAVING 2000000 to evalHDF4\n"
     ]
    },
    {
     "name": "stderr",
     "output_type": "stream",
     "text": [
      " 42%|████▏     | 5639/13486 [06:27<16:44,  7.81it/s]  "
     ]
    },
    {
     "name": "stdout",
     "output_type": "stream",
     "text": [
      "SAVING 2000000 to evalHDF5\n"
     ]
    },
    {
     "name": "stderr",
     "output_type": "stream",
     "text": [
      " 49%|████▊     | 6541/13486 [07:29<14:55,  7.75it/s]"
     ]
    },
    {
     "name": "stdout",
     "output_type": "stream",
     "text": [
      "SAVING 2000000 to evalHDF6\n"
     ]
    },
    {
     "name": "stderr",
     "output_type": "stream",
     "text": [
      " 55%|█████▌    | 7440/13486 [08:31<13:07,  7.67it/s]"
     ]
    },
    {
     "name": "stdout",
     "output_type": "stream",
     "text": [
      "SAVING 2000000 to evalHDF7\n"
     ]
    },
    {
     "name": "stderr",
     "output_type": "stream",
     "text": [
      " 62%|██████▏   | 8328/13486 [09:32<11:08,  7.71it/s]"
     ]
    },
    {
     "name": "stdout",
     "output_type": "stream",
     "text": [
      "SAVING 2000000 to evalHDF8\n"
     ]
    },
    {
     "name": "stderr",
     "output_type": "stream",
     "text": [
      " 69%|██████▉   | 9291/13486 [10:38<09:01,  7.75it/s]"
     ]
    },
    {
     "name": "stdout",
     "output_type": "stream",
     "text": [
      "SAVING 2000000 to evalHDF9\n"
     ]
    },
    {
     "name": "stderr",
     "output_type": "stream",
     "text": [
      " 76%|███████▌  | 10245/13486 [11:42<07:03,  7.66it/s]"
     ]
    },
    {
     "name": "stdout",
     "output_type": "stream",
     "text": [
      "SAVING 2000000 to evalHDF10\n"
     ]
    },
    {
     "name": "stderr",
     "output_type": "stream",
     "text": [
      " 83%|████████▎ | 11208/13486 [12:48<04:58,  7.64it/s]"
     ]
    },
    {
     "name": "stdout",
     "output_type": "stream",
     "text": [
      "SAVING 2000000 to evalHDF11\n"
     ]
    },
    {
     "name": "stderr",
     "output_type": "stream",
     "text": [
      " 90%|█████████ | 12147/13486 [13:49<02:55,  7.65it/s]"
     ]
    },
    {
     "name": "stdout",
     "output_type": "stream",
     "text": [
      "SAVING 2000000 to evalHDF12\n"
     ]
    },
    {
     "name": "stderr",
     "output_type": "stream",
     "text": [
      " 97%|█████████▋| 13083/13486 [14:52<00:51,  7.87it/s]"
     ]
    },
    {
     "name": "stdout",
     "output_type": "stream",
     "text": [
      "SAVING 2000000 to evalHDF13\n"
     ]
    },
    {
     "name": "stderr",
     "output_type": "stream",
     "text": [
      "100%|██████████| 13486/13486 [15:04<00:00, 14.91it/s]\n"
     ]
    },
    {
     "name": "stdout",
     "output_type": "stream",
     "text": [
      "SAVING 813978 to evalHDF14\n",
      "Writing inventory.\n",
      "Finished.\n"
     ]
    }
   ],
   "source": [
    "import os\n",
    "import h5py\n",
    "import numpy as np\n",
    "from tqdm import tqdm\n",
    "import utils.data_utils as dpu\n",
    "\n",
    "source = \"lc0\"\n",
    "\n",
    "boards_hdf_path = f\"/root/chess-hackathon-3/data/{source}_board_evals/boards.h5\"\n",
    "scores_hdf_path = f\"/root/chess-hackathon-3/data/{source}_board_evals/scores.h5\"\n",
    "out_path = f\"/root/chess-hackathon-3/data/{source}_board_evals\"\n",
    "\n",
    "batch_size = 2_000_000\n",
    "\n",
    "boards_hdf = h5py.File(boards_hdf_path, 'r')\n",
    "scores_hdf = h5py.File(scores_hdf_path, 'r')\n",
    "\n",
    "boards_buffer = np.empty((0,8,8), dtype=int)\n",
    "scores_buffer = np.empty((0,), dtype=int)\n",
    "\n",
    "num_out_files = 0\n",
    "hdf_sizes = []\n",
    "hdf_names = []\n",
    "\n",
    "for key in tqdm(scores_hdf.keys()):\n",
    "\n",
    "    try:\n",
    "        game_boards = np.array(boards_hdf[key][:], dtype=int)\n",
    "        game_scores = np.array(scores_hdf[key][:], dtype=int)\n",
    "    except:\n",
    "        print(f\"FAILED: {key}\")\n",
    "        continue\n",
    "\n",
    "    overflow = len(scores_buffer) + len(game_scores) - batch_size\n",
    "\n",
    "    if overflow >= 0:\n",
    "\n",
    "        truncation = len(game_scores) - overflow\n",
    "        boards_buffer = np.append(boards_buffer, game_boards[:truncation], axis=0)\n",
    "        scores_buffer = np.append(scores_buffer, game_scores[:truncation], axis=0)\n",
    "\n",
    "        hdf_name = f\"evalHDF{num_out_files}\"\n",
    "        out_hdf_path = os.path.join(out_path, hdf_name)\n",
    "        print(f\"SAVING {len(scores_buffer)} to {hdf_name}\")\n",
    "        with h5py.File(out_hdf_path, \"w\") as out_hdf:\n",
    "            out_hdf.create_dataset(\"boards\", data=boards_buffer)\n",
    "            out_hdf.create_dataset(\"scores\", data=scores_buffer)\n",
    "\n",
    "        num_out_files += 1\n",
    "        hdf_sizes.append(batch_size)\n",
    "        hdf_names.append(hdf_name)\n",
    "\n",
    "        boards_buffer = game_boards[truncation:]\n",
    "        scores_buffer = game_scores[truncation:]\n",
    "\n",
    "    else:\n",
    "\n",
    "        boards_buffer = np.append(boards_buffer, game_boards, axis=0)\n",
    "        scores_buffer = np.append(scores_buffer, game_scores, axis=0)\n",
    "\n",
    "if scores_buffer.shape[0] > 0:\n",
    "    \n",
    "    hdf_name = f\"evalHDF{num_out_files}\"\n",
    "    out_hdf_path = os.path.join(out_path, hdf_name)\n",
    "    print(f\"SAVING {len(scores_buffer)} to {hdf_name}\")\n",
    "    with h5py.File(out_hdf_path, \"w\") as out_hdf:\n",
    "        out_hdf.create_dataset(\"boards\", data=boards_buffer)\n",
    "        out_hdf.create_dataset(\"scores\", data=scores_buffer)\n",
    "\n",
    "    hdf_sizes.append(scores_buffer.shape[0])\n",
    "    hdf_names.append(hdf_name)\n",
    "\n",
    "boards_hdf.close()\n",
    "scores_hdf.close()\n",
    "\n",
    "print(\"Writing inventory.\")\n",
    "dpu.write_inventory(out_path, hdf_sizes, hdf_names)\n",
    "print(\"Finished.\")"
   ]
  },
  {
   "cell_type": "code",
   "execution_count": 1,
   "metadata": {},
   "outputs": [
    {
     "name": "stdout",
     "output_type": "stream",
     "text": [
      "28813978\n",
      "tensor([[10,  8,  9, 11, 12,  9,  8, 10],\n",
      "        [ 7,  7,  7,  7,  7,  7,  7,  7],\n",
      "        [ 6,  6,  6,  6,  6,  6,  6,  6],\n",
      "        [ 6,  6,  6,  6,  6,  6,  6,  6],\n",
      "        [ 6,  6,  6,  6,  6,  6,  6,  6],\n",
      "        [ 6,  6,  6,  6,  6,  6,  6,  4],\n",
      "        [ 5,  5,  5,  5,  5,  5,  5,  5],\n",
      "        [ 2,  4,  3,  1,  0,  3,  6,  2]])\n",
      "tensor(-64)\n"
     ]
    }
   ],
   "source": [
    "from utils.datasets import EVAL_HDF_Dataset\n",
    "\n",
    "out_path = \"/root/chess-hackathon-3/data/lc0_board_evals\"\n",
    "ds = EVAL_HDF_Dataset(out_path)\n",
    "print(len(ds))\n",
    "\n",
    "board, eval = ds[0]\n",
    "print(board)\n",
    "print(eval)"
   ]
  },
  {
   "cell_type": "code",
   "execution_count": null,
   "metadata": {},
   "outputs": [],
   "source": []
  }
 ],
 "metadata": {
  "kernelspec": {
   "display_name": ".chess",
   "language": "python",
   "name": "python3"
  },
  "language_info": {
   "codemirror_mode": {
    "name": "ipython",
    "version": 3
   },
   "file_extension": ".py",
   "mimetype": "text/x-python",
   "name": "python",
   "nbconvert_exporter": "python",
   "pygments_lexer": "ipython3",
   "version": "3.10.12"
  }
 },
 "nbformat": 4,
 "nbformat_minor": 2
}
