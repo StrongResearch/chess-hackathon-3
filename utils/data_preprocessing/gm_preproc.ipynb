{
 "cells": [
  {
   "cell_type": "code",
   "execution_count": 1,
   "metadata": {},
   "outputs": [
    {
     "name": "stderr",
     "output_type": "stream",
     "text": [
      "100%|██████████| 10/10 [00:18<00:00,  1.83s/it]\n"
     ]
    }
   ],
   "source": [
    "import utils.data_utils as dpu\n",
    "from tqdm import tqdm\n",
    "\n",
    "# 10 Best players of all time\n",
    "# https://www.chess.com/article/view/best-chess-players-of-all-time\n",
    "urls = []\n",
    "# 1. Garry Kasparov\n",
    "urls.append(\"https://www.pgnmentor.com/players/Kasparov.zip\")\n",
    "# 2. Magnus Carlsen\n",
    "urls.append(\"https://www.pgnmentor.com/players/Carlsen.zip\")\n",
    "# 3. Bobby Fischer\n",
    "urls.append(\"https://www.pgnmentor.com/players/Fischer.zip\")\n",
    "# 4. José Raúl Capablanca\n",
    "urls.append(\"https://www.pgnmentor.com/players/Capablanca.zip\")\n",
    "# 5. Anatoly Karpov\n",
    "urls.append(\"https://www.pgnmentor.com/players/Karpov.zip\")\n",
    "# 6. Mikhail Botvinnik\n",
    "urls.append(\"https://www.pgnmentor.com/players/Botvinnik.zip\")\n",
    "# 7. Vladimir Kramnik\n",
    "urls.append(\"https://www.pgnmentor.com/players/Kramnik.zip\")\n",
    "# 8. Emanuel Lasker\n",
    "urls.append(\"https://www.pgnmentor.com/players/Lasker.zip\")\n",
    "# 9. Mikhail Tal\n",
    "urls.append(\"https://www.pgnmentor.com/players/Tal.zip\")\n",
    "# 10. Alexander Alekhine\n",
    "urls.append(\"https://www.pgnmentor.com/players/Alekhine.zip\")\n",
    "\n",
    "metas, pgns = [], []\n",
    "for url in tqdm(urls):\n",
    "    m, p = dpu.download_gm_pgns(url)\n",
    "    metas += m\n",
    "    pgns += p\n",
    "\n",
    "dest_dir = \"/root/chess-hackathon-3/data/gm_pgn_hdfs\"\n",
    "dpu.save_pgn_batch_to_hdf(pgns, hdf_count=0, dest_dir=dest_dir, metas=metas)\n",
    "dpu.write_inventory(dest_dir, [len(pgns)], [\"pgnHDF0.h5\"])"
   ]
  },
  {
   "cell_type": "code",
   "execution_count": 4,
   "metadata": {},
   "outputs": [
    {
     "name": "stdout",
     "output_type": "stream",
     "text": [
      "23085\n",
      "1.e4 c5 2.c3 Nf6 3.e5 Nd5 4.d4 Nc6 5.Nf3 cxd4 6.cxd4 e6 7.a3 d6 8.Bd3 Qa5+ 9.Bd2 Qb6 10.Nc3 Nxc3 11.Bxc3 dxe5 12.dxe5 Be7 13.O-O Bd7 14.Nd2 Qc7 15.Qg4 O-O-O 16.Rfc1 Kb8 17.Qc4 Rc8 18.b4 f6 19.Nf3 Qb6 20.Qe4 f5 21.Qe1 a6 22.Rab1 g5 23.Nd2 Nd4 24.Qe3 Rxc3 25.Rxc3 f4 26.Qe1 g4 27.Ne4 Bc6 28.Nc5 Ka7 29.a4 Bf3 30.a5 Qd8 31.Bc4 Bxc5 32.bxc5 Qh4 33.gxf3 gxf3 34.Kh1 Rg8 35.Qe4 Rg7 36.Qxd4 Qg5 37.c6+ Kb8 38.c7+ Rxc7 39.Rg1 Qh5 40.Rg8+ Rc8 41.Qd6+ Ka7  1-0\n",
      "[Event \"Wch U16\"]\n",
      "[Site \"Wattignies\"]\n",
      "[Date \"1976.08.27\"]\n",
      "[Round \"?\"]\n",
      "[White \"Chandler, Murray G\"]\n",
      "[Black \"Kasparov, Gary\"]\n",
      "[Result \"1-0\"]\n",
      "[WhiteElo \"\"]\n",
      "[BlackElo \"\"]\n",
      "[ECO \"B22\"]\n",
      "1.e4 c5 2.c3 Nf6 3.e5 Nd5 4.d4 Nc6 5.Nf3 cxd4 6.cxd4 e6 7.a3 d6 8.Bd3 Qa5+ 9.Bd2 Qb6 10.Nc3 Nxc3 11.Bxc3 dxe5 12.dxe5 Be7 13.O-O Bd7 14.Nd2 Qc7 15.Qg4 O-O-O 16.Rfc1 Kb8 17.Qc4 Rc8 18.b4 f6 19.Nf3 Qb6 20.Qe4 f5 21.Qe1 a6 22.Rab1 g5 23.Nd2 Nd4 24.Qe3 Rxc3 25.Rxc3 f4 26.Qe1 g4 27.Ne4 Bc6 28.Nc5 Ka7 29.a4 Bf3 30.a5 Qd8 31.Bc4 Bxc5 32.bxc5 Qh4 33.gxf3 gxf3 34.Kh1 Rg8 35.Qe4 Rg7 36.Qxd4 Qg5 37.c6+ Kb8 38.c7+ Rxc7 39.Rg1 Qh5 40.Rg8+ Rc8 41.Qd6+ Ka7  1-0\n"
     ]
    }
   ],
   "source": [
    "from utils.datasets import PGN_HDF_Dataset\n",
    "\n",
    "dest_dir = \"/root/chess-hackathon-3/data/gm_pgn_hdfs\"\n",
    "ds = PGN_HDF_Dataset(dest_dir, meta=True)\n",
    "print(len(ds))\n",
    "\n",
    "pgn, meta = ds[0]\n",
    "print(pgn)\n",
    "print(meta)\n",
    "\n",
    "ds = PGN_HDF_Dataset(dest_dir, meta=False)\n",
    "\n",
    "pgn = ds[0]\n",
    "print(pgn)"
   ]
  }
 ],
 "metadata": {
  "kernelspec": {
   "display_name": ".chess",
   "language": "python",
   "name": "python3"
  },
  "language_info": {
   "codemirror_mode": {
    "name": "ipython",
    "version": 3
   },
   "file_extension": ".py",
   "mimetype": "text/x-python",
   "name": "python",
   "nbconvert_exporter": "python",
   "pygments_lexer": "ipython3",
   "version": "3.10.12"
  }
 },
 "nbformat": 4,
 "nbformat_minor": 2
}
